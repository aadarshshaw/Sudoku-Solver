{
 "cells": [
  {
   "cell_type": "code",
   "execution_count": 1,
   "metadata": {},
   "outputs": [],
   "source": [
    "import cv2\n",
    "import numpy as np\n",
    "import tensorflow as tf\n",
    "from matplotlib import pyplot as plt"
   ]
  },
  {
   "cell_type": "code",
   "execution_count": 30,
   "metadata": {},
   "outputs": [
    {
     "data": {
      "text/plain": [
       "array([[5, 3, 0, 0, 7, 0, 0, 0, 0],\n",
       "       [6, 0, 0, 1, 9, 5, 0, 0, 0],\n",
       "       [0, 9, 8, 0, 0, 0, 0, 6, 0],\n",
       "       [8, 0, 0, 0, 6, 0, 0, 0, 3],\n",
       "       [4, 0, 0, 8, 0, 3, 0, 0, 1],\n",
       "       [7, 0, 0, 0, 2, 0, 0, 0, 6],\n",
       "       [0, 6, 0, 0, 0, 0, 2, 8, 0],\n",
       "       [0, 0, 0, 4, 1, 9, 0, 0, 5],\n",
       "       [0, 0, 0, 0, 8, 0, 0, 7, 9]], dtype=int64)"
      ]
     },
     "execution_count": 30,
     "metadata": {},
     "output_type": "execute_result"
    }
   ],
   "source": [
    "def find_grid(image):\n",
    "    image = cv2.resize(image,(900,900))\n",
    "    gray = cv2.cvtColor(image,cv2.COLOR_BGR2GRAY)\n",
    "    gray = cv2.bitwise_not(gray)\n",
    "    model = tf.keras.models.load_model(\"digits-ocr.h5\")\n",
    "    numbers =[]\n",
    "    rows = np.vsplit(gray,9)\n",
    "    for row in rows:\n",
    "        cols = np.hsplit(row,9)\n",
    "        for box in cols:\n",
    "            box = cv2.resize(box,(30,30))/255.0\n",
    "            box = box[1:29,1:29]\n",
    "            kernel = np.ones((3,3))\n",
    "            box = cv2.dilate(box,kernel)\n",
    "            white = np.sum(box>0)\n",
    "            if(white == 0):\n",
    "                numbers.append(0)\n",
    "                continue\n",
    "            box = box.reshape(-1,28,28,1)\n",
    "            prediction = model.predict(box)\n",
    "            numbers.append(np.argmax(prediction))\n",
    "    return np.array(numbers).reshape((9,9))\n",
    "\n"
   ]
  }
 ],
 "metadata": {
  "interpreter": {
   "hash": "3f05d58ac98c9df9713de2dcc411ed508fdd29ccee50096760d1661b72d6a5e0"
  },
  "kernelspec": {
   "display_name": "Python 3.9.12 ('base')",
   "language": "python",
   "name": "python3"
  },
  "language_info": {
   "codemirror_mode": {
    "name": "ipython",
    "version": 3
   },
   "file_extension": ".py",
   "mimetype": "text/x-python",
   "name": "python",
   "nbconvert_exporter": "python",
   "pygments_lexer": "ipython3",
   "version": "3.9.12"
  },
  "orig_nbformat": 4
 },
 "nbformat": 4,
 "nbformat_minor": 2
}
